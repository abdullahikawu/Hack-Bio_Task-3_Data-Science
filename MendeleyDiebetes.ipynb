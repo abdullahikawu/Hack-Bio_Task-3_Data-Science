{
  "nbformat": 4,
  "nbformat_minor": 0,
  "metadata": {
    "colab": {
      "name": "Mendeley.ipynb",
      "provenance": [],
      "include_colab_link": true
    },
    "kernelspec": {
      "name": "python3",
      "display_name": "Python 3"
    },
    "language_info": {
      "name": "python"
    }
  },
  "cells": [
    {
      "cell_type": "markdown",
      "metadata": {
        "id": "view-in-github",
        "colab_type": "text"
      },
      "source": [
        "<a href=\"https://colab.research.google.com/github/abdullahikawu/Hack-Bio_Task-3_Data-Science/blob/main/MendeleyDiebetes.ipynb\" target=\"_parent\"><img src=\"https://colab.research.google.com/assets/colab-badge.svg\" alt=\"Open In Colab\"/></a>"
      ]
    },
    {
      "cell_type": "code",
      "metadata": {
        "id": "4abRmVZlkOVs"
      },
      "source": [
        "import numpy as np\n",
        "import pandas as pd\n",
        "import matplotlib.pyplot as plt\n",
        "import seaborn as sns\n",
        "import sklearn \n",
        "from sklearn.metrics import confusion_matrix, classification_report, accuracy_score\n",
        "from sklearn.metrics import accuracy_score, f1_score, classification_report, confusion_matrix"
      ],
      "execution_count": null,
      "outputs": []
    },
    {
      "cell_type": "markdown",
      "metadata": {
        "id": "IqlQEHP8kvUc"
      },
      "source": [
        "The objective of the dataset is to diagnostically predict whether or not a patient has diabetes, based on certain diagnostic measurements included in the dataset"
      ]
    },
    {
      "cell_type": "code",
      "metadata": {
        "colab": {
          "base_uri": "https://localhost:8080/",
          "height": 204
        },
        "id": "3piJnRjHkQkN",
        "outputId": "4143430f-3ad5-4001-c4af-b44ac020926a"
      },
      "source": [
        "Data  = pd.read_csv(\"/content/Dataset of Diabetes .csv\")\n",
        "Data.head()"
      ],
      "execution_count": null,
      "outputs": [
        {
          "output_type": "execute_result",
          "data": {
            "text/html": [
              "<div>\n",
              "<style scoped>\n",
              "    .dataframe tbody tr th:only-of-type {\n",
              "        vertical-align: middle;\n",
              "    }\n",
              "\n",
              "    .dataframe tbody tr th {\n",
              "        vertical-align: top;\n",
              "    }\n",
              "\n",
              "    .dataframe thead th {\n",
              "        text-align: right;\n",
              "    }\n",
              "</style>\n",
              "<table border=\"1\" class=\"dataframe\">\n",
              "  <thead>\n",
              "    <tr style=\"text-align: right;\">\n",
              "      <th></th>\n",
              "      <th>ID</th>\n",
              "      <th>No_Pation</th>\n",
              "      <th>Gender</th>\n",
              "      <th>AGE</th>\n",
              "      <th>Urea</th>\n",
              "      <th>Cr</th>\n",
              "      <th>HbA1c</th>\n",
              "      <th>Chol</th>\n",
              "      <th>TG</th>\n",
              "      <th>HDL</th>\n",
              "      <th>LDL</th>\n",
              "      <th>VLDL</th>\n",
              "      <th>BMI</th>\n",
              "      <th>CLASS</th>\n",
              "    </tr>\n",
              "  </thead>\n",
              "  <tbody>\n",
              "    <tr>\n",
              "      <th>0</th>\n",
              "      <td>502</td>\n",
              "      <td>17975</td>\n",
              "      <td>F</td>\n",
              "      <td>50</td>\n",
              "      <td>4.7</td>\n",
              "      <td>46</td>\n",
              "      <td>4.9</td>\n",
              "      <td>4.2</td>\n",
              "      <td>0.9</td>\n",
              "      <td>2.4</td>\n",
              "      <td>1.4</td>\n",
              "      <td>0.5</td>\n",
              "      <td>24.0</td>\n",
              "      <td>N</td>\n",
              "    </tr>\n",
              "    <tr>\n",
              "      <th>1</th>\n",
              "      <td>735</td>\n",
              "      <td>34221</td>\n",
              "      <td>M</td>\n",
              "      <td>26</td>\n",
              "      <td>4.5</td>\n",
              "      <td>62</td>\n",
              "      <td>4.9</td>\n",
              "      <td>3.7</td>\n",
              "      <td>1.4</td>\n",
              "      <td>1.1</td>\n",
              "      <td>2.1</td>\n",
              "      <td>0.6</td>\n",
              "      <td>23.0</td>\n",
              "      <td>N</td>\n",
              "    </tr>\n",
              "    <tr>\n",
              "      <th>2</th>\n",
              "      <td>420</td>\n",
              "      <td>47975</td>\n",
              "      <td>F</td>\n",
              "      <td>50</td>\n",
              "      <td>4.7</td>\n",
              "      <td>46</td>\n",
              "      <td>4.9</td>\n",
              "      <td>4.2</td>\n",
              "      <td>0.9</td>\n",
              "      <td>2.4</td>\n",
              "      <td>1.4</td>\n",
              "      <td>0.5</td>\n",
              "      <td>24.0</td>\n",
              "      <td>N</td>\n",
              "    </tr>\n",
              "    <tr>\n",
              "      <th>3</th>\n",
              "      <td>680</td>\n",
              "      <td>87656</td>\n",
              "      <td>F</td>\n",
              "      <td>50</td>\n",
              "      <td>4.7</td>\n",
              "      <td>46</td>\n",
              "      <td>4.9</td>\n",
              "      <td>4.2</td>\n",
              "      <td>0.9</td>\n",
              "      <td>2.4</td>\n",
              "      <td>1.4</td>\n",
              "      <td>0.5</td>\n",
              "      <td>24.0</td>\n",
              "      <td>N</td>\n",
              "    </tr>\n",
              "    <tr>\n",
              "      <th>4</th>\n",
              "      <td>504</td>\n",
              "      <td>34223</td>\n",
              "      <td>M</td>\n",
              "      <td>33</td>\n",
              "      <td>7.1</td>\n",
              "      <td>46</td>\n",
              "      <td>4.9</td>\n",
              "      <td>4.9</td>\n",
              "      <td>1.0</td>\n",
              "      <td>0.8</td>\n",
              "      <td>2.0</td>\n",
              "      <td>0.4</td>\n",
              "      <td>21.0</td>\n",
              "      <td>N</td>\n",
              "    </tr>\n",
              "  </tbody>\n",
              "</table>\n",
              "</div>"
            ],
            "text/plain": [
              "    ID  No_Pation Gender  AGE  Urea  Cr  ...   TG  HDL  LDL  VLDL   BMI  CLASS\n",
              "0  502      17975      F   50   4.7  46  ...  0.9  2.4  1.4   0.5  24.0      N\n",
              "1  735      34221      M   26   4.5  62  ...  1.4  1.1  2.1   0.6  23.0      N\n",
              "2  420      47975      F   50   4.7  46  ...  0.9  2.4  1.4   0.5  24.0      N\n",
              "3  680      87656      F   50   4.7  46  ...  0.9  2.4  1.4   0.5  24.0      N\n",
              "4  504      34223      M   33   7.1  46  ...  1.0  0.8  2.0   0.4  21.0      N\n",
              "\n",
              "[5 rows x 14 columns]"
            ]
          },
          "metadata": {},
          "execution_count": 45
        }
      ]
    },
    {
      "cell_type": "markdown",
      "metadata": {
        "id": "m2uZ7uk0kpcZ"
      },
      "source": [
        "The data were collected from the Iraqi society, as they data were acquired from the laboratory of Medical City Hospital and (the Specializes Center for Endocrinology and Diabetes-Al-Kindy Teaching Hospital). Patients' files were taken and data extracted from them and entered in to the database to construct the diabetes dataset. The data consist of medical information, laboratory analysis. The data attribute are:\n",
        "The data consist of medical information, laboratory analysis… etc. The data that have been entered initially into the system are: No. of Patient, Sugar Level Blood, Age, Gender, Creatinine ratio(Cr), Body Mass Index (BMI), Urea, Cholesterol (Chol), Fasting lipid profile, including total, LDL, VLDL, Triglycerides(TG) and HDL Cholesterol , HBA1C, Class (the patient's diabetes disease class may be Diabetic, Non-Diabetic, or Predict-Diabetic)."
      ]
    },
    {
      "cell_type": "code",
      "metadata": {
        "colab": {
          "base_uri": "https://localhost:8080/"
        },
        "id": "vyz5MBCukfHE",
        "outputId": "8564de18-95b6-421b-a776-345a1562c40d"
      },
      "source": [
        "Data.isnull().sum()"
      ],
      "execution_count": null,
      "outputs": [
        {
          "output_type": "execute_result",
          "data": {
            "text/plain": [
              "ID           0\n",
              "No_Pation    0\n",
              "Gender       0\n",
              "AGE          0\n",
              "Urea         0\n",
              "Cr           0\n",
              "HbA1c        0\n",
              "Chol         0\n",
              "TG           0\n",
              "HDL          0\n",
              "LDL          0\n",
              "VLDL         0\n",
              "BMI          0\n",
              "CLASS        0\n",
              "dtype: int64"
            ]
          },
          "metadata": {},
          "execution_count": 46
        }
      ]
    },
    {
      "cell_type": "markdown",
      "metadata": {
        "id": "jhtJjU0qk2Iq"
      },
      "source": [
        "We see that  the dataset has no null values . So we will proceed with the dataset as it is ."
      ]
    },
    {
      "cell_type": "code",
      "metadata": {
        "colab": {
          "base_uri": "https://localhost:8080/",
          "height": 204
        },
        "id": "YIPeRfjFk0Wn",
        "outputId": "3f708a51-d375-4f14-9962-e353bdf3cb37"
      },
      "source": [
        "Data = Data.drop(['ID' , 'No_Pation'] , axis = 1)\n",
        "Data.head()"
      ],
      "execution_count": null,
      "outputs": [
        {
          "output_type": "execute_result",
          "data": {
            "text/html": [
              "<div>\n",
              "<style scoped>\n",
              "    .dataframe tbody tr th:only-of-type {\n",
              "        vertical-align: middle;\n",
              "    }\n",
              "\n",
              "    .dataframe tbody tr th {\n",
              "        vertical-align: top;\n",
              "    }\n",
              "\n",
              "    .dataframe thead th {\n",
              "        text-align: right;\n",
              "    }\n",
              "</style>\n",
              "<table border=\"1\" class=\"dataframe\">\n",
              "  <thead>\n",
              "    <tr style=\"text-align: right;\">\n",
              "      <th></th>\n",
              "      <th>Gender</th>\n",
              "      <th>AGE</th>\n",
              "      <th>Urea</th>\n",
              "      <th>Cr</th>\n",
              "      <th>HbA1c</th>\n",
              "      <th>Chol</th>\n",
              "      <th>TG</th>\n",
              "      <th>HDL</th>\n",
              "      <th>LDL</th>\n",
              "      <th>VLDL</th>\n",
              "      <th>BMI</th>\n",
              "      <th>CLASS</th>\n",
              "    </tr>\n",
              "  </thead>\n",
              "  <tbody>\n",
              "    <tr>\n",
              "      <th>0</th>\n",
              "      <td>F</td>\n",
              "      <td>50</td>\n",
              "      <td>4.7</td>\n",
              "      <td>46</td>\n",
              "      <td>4.9</td>\n",
              "      <td>4.2</td>\n",
              "      <td>0.9</td>\n",
              "      <td>2.4</td>\n",
              "      <td>1.4</td>\n",
              "      <td>0.5</td>\n",
              "      <td>24.0</td>\n",
              "      <td>N</td>\n",
              "    </tr>\n",
              "    <tr>\n",
              "      <th>1</th>\n",
              "      <td>M</td>\n",
              "      <td>26</td>\n",
              "      <td>4.5</td>\n",
              "      <td>62</td>\n",
              "      <td>4.9</td>\n",
              "      <td>3.7</td>\n",
              "      <td>1.4</td>\n",
              "      <td>1.1</td>\n",
              "      <td>2.1</td>\n",
              "      <td>0.6</td>\n",
              "      <td>23.0</td>\n",
              "      <td>N</td>\n",
              "    </tr>\n",
              "    <tr>\n",
              "      <th>2</th>\n",
              "      <td>F</td>\n",
              "      <td>50</td>\n",
              "      <td>4.7</td>\n",
              "      <td>46</td>\n",
              "      <td>4.9</td>\n",
              "      <td>4.2</td>\n",
              "      <td>0.9</td>\n",
              "      <td>2.4</td>\n",
              "      <td>1.4</td>\n",
              "      <td>0.5</td>\n",
              "      <td>24.0</td>\n",
              "      <td>N</td>\n",
              "    </tr>\n",
              "    <tr>\n",
              "      <th>3</th>\n",
              "      <td>F</td>\n",
              "      <td>50</td>\n",
              "      <td>4.7</td>\n",
              "      <td>46</td>\n",
              "      <td>4.9</td>\n",
              "      <td>4.2</td>\n",
              "      <td>0.9</td>\n",
              "      <td>2.4</td>\n",
              "      <td>1.4</td>\n",
              "      <td>0.5</td>\n",
              "      <td>24.0</td>\n",
              "      <td>N</td>\n",
              "    </tr>\n",
              "    <tr>\n",
              "      <th>4</th>\n",
              "      <td>M</td>\n",
              "      <td>33</td>\n",
              "      <td>7.1</td>\n",
              "      <td>46</td>\n",
              "      <td>4.9</td>\n",
              "      <td>4.9</td>\n",
              "      <td>1.0</td>\n",
              "      <td>0.8</td>\n",
              "      <td>2.0</td>\n",
              "      <td>0.4</td>\n",
              "      <td>21.0</td>\n",
              "      <td>N</td>\n",
              "    </tr>\n",
              "  </tbody>\n",
              "</table>\n",
              "</div>"
            ],
            "text/plain": [
              "  Gender  AGE  Urea  Cr  HbA1c  Chol   TG  HDL  LDL  VLDL   BMI CLASS\n",
              "0      F   50   4.7  46    4.9   4.2  0.9  2.4  1.4   0.5  24.0     N\n",
              "1      M   26   4.5  62    4.9   3.7  1.4  1.1  2.1   0.6  23.0     N\n",
              "2      F   50   4.7  46    4.9   4.2  0.9  2.4  1.4   0.5  24.0     N\n",
              "3      F   50   4.7  46    4.9   4.2  0.9  2.4  1.4   0.5  24.0     N\n",
              "4      M   33   7.1  46    4.9   4.9  1.0  0.8  2.0   0.4  21.0     N"
            ]
          },
          "metadata": {},
          "execution_count": 47
        }
      ]
    },
    {
      "cell_type": "code",
      "metadata": {
        "colab": {
          "base_uri": "https://localhost:8080/",
          "height": 317
        },
        "id": "JbluH-mfk_SX",
        "outputId": "1f3c9011-ac69-44ad-f4d0-a1d1cecbc978"
      },
      "source": [
        "Data.describe()"
      ],
      "execution_count": null,
      "outputs": [
        {
          "output_type": "execute_result",
          "data": {
            "text/html": [
              "<div>\n",
              "<style scoped>\n",
              "    .dataframe tbody tr th:only-of-type {\n",
              "        vertical-align: middle;\n",
              "    }\n",
              "\n",
              "    .dataframe tbody tr th {\n",
              "        vertical-align: top;\n",
              "    }\n",
              "\n",
              "    .dataframe thead th {\n",
              "        text-align: right;\n",
              "    }\n",
              "</style>\n",
              "<table border=\"1\" class=\"dataframe\">\n",
              "  <thead>\n",
              "    <tr style=\"text-align: right;\">\n",
              "      <th></th>\n",
              "      <th>AGE</th>\n",
              "      <th>Urea</th>\n",
              "      <th>Cr</th>\n",
              "      <th>HbA1c</th>\n",
              "      <th>Chol</th>\n",
              "      <th>TG</th>\n",
              "      <th>HDL</th>\n",
              "      <th>LDL</th>\n",
              "      <th>VLDL</th>\n",
              "      <th>BMI</th>\n",
              "    </tr>\n",
              "  </thead>\n",
              "  <tbody>\n",
              "    <tr>\n",
              "      <th>count</th>\n",
              "      <td>1000.000000</td>\n",
              "      <td>1000.000000</td>\n",
              "      <td>1000.000000</td>\n",
              "      <td>1000.000000</td>\n",
              "      <td>1000.000000</td>\n",
              "      <td>1000.000000</td>\n",
              "      <td>1000.000000</td>\n",
              "      <td>1000.000000</td>\n",
              "      <td>1000.000000</td>\n",
              "      <td>1000.000000</td>\n",
              "    </tr>\n",
              "    <tr>\n",
              "      <th>mean</th>\n",
              "      <td>53.528000</td>\n",
              "      <td>5.124743</td>\n",
              "      <td>68.943000</td>\n",
              "      <td>8.281160</td>\n",
              "      <td>4.862820</td>\n",
              "      <td>2.349610</td>\n",
              "      <td>1.204750</td>\n",
              "      <td>2.609790</td>\n",
              "      <td>1.854700</td>\n",
              "      <td>29.578020</td>\n",
              "    </tr>\n",
              "    <tr>\n",
              "      <th>std</th>\n",
              "      <td>8.799241</td>\n",
              "      <td>2.935165</td>\n",
              "      <td>59.984747</td>\n",
              "      <td>2.534003</td>\n",
              "      <td>1.301738</td>\n",
              "      <td>1.401176</td>\n",
              "      <td>0.660414</td>\n",
              "      <td>1.115102</td>\n",
              "      <td>3.663599</td>\n",
              "      <td>4.962388</td>\n",
              "    </tr>\n",
              "    <tr>\n",
              "      <th>min</th>\n",
              "      <td>20.000000</td>\n",
              "      <td>0.500000</td>\n",
              "      <td>6.000000</td>\n",
              "      <td>0.900000</td>\n",
              "      <td>0.000000</td>\n",
              "      <td>0.300000</td>\n",
              "      <td>0.200000</td>\n",
              "      <td>0.300000</td>\n",
              "      <td>0.100000</td>\n",
              "      <td>19.000000</td>\n",
              "    </tr>\n",
              "    <tr>\n",
              "      <th>25%</th>\n",
              "      <td>51.000000</td>\n",
              "      <td>3.700000</td>\n",
              "      <td>48.000000</td>\n",
              "      <td>6.500000</td>\n",
              "      <td>4.000000</td>\n",
              "      <td>1.500000</td>\n",
              "      <td>0.900000</td>\n",
              "      <td>1.800000</td>\n",
              "      <td>0.700000</td>\n",
              "      <td>26.000000</td>\n",
              "    </tr>\n",
              "    <tr>\n",
              "      <th>50%</th>\n",
              "      <td>55.000000</td>\n",
              "      <td>4.600000</td>\n",
              "      <td>60.000000</td>\n",
              "      <td>8.000000</td>\n",
              "      <td>4.800000</td>\n",
              "      <td>2.000000</td>\n",
              "      <td>1.100000</td>\n",
              "      <td>2.500000</td>\n",
              "      <td>0.900000</td>\n",
              "      <td>30.000000</td>\n",
              "    </tr>\n",
              "    <tr>\n",
              "      <th>75%</th>\n",
              "      <td>59.000000</td>\n",
              "      <td>5.700000</td>\n",
              "      <td>73.000000</td>\n",
              "      <td>10.200000</td>\n",
              "      <td>5.600000</td>\n",
              "      <td>2.900000</td>\n",
              "      <td>1.300000</td>\n",
              "      <td>3.300000</td>\n",
              "      <td>1.500000</td>\n",
              "      <td>33.000000</td>\n",
              "    </tr>\n",
              "    <tr>\n",
              "      <th>max</th>\n",
              "      <td>79.000000</td>\n",
              "      <td>38.900000</td>\n",
              "      <td>800.000000</td>\n",
              "      <td>16.000000</td>\n",
              "      <td>10.300000</td>\n",
              "      <td>13.800000</td>\n",
              "      <td>9.900000</td>\n",
              "      <td>9.900000</td>\n",
              "      <td>35.000000</td>\n",
              "      <td>47.750000</td>\n",
              "    </tr>\n",
              "  </tbody>\n",
              "</table>\n",
              "</div>"
            ],
            "text/plain": [
              "               AGE         Urea  ...         VLDL          BMI\n",
              "count  1000.000000  1000.000000  ...  1000.000000  1000.000000\n",
              "mean     53.528000     5.124743  ...     1.854700    29.578020\n",
              "std       8.799241     2.935165  ...     3.663599     4.962388\n",
              "min      20.000000     0.500000  ...     0.100000    19.000000\n",
              "25%      51.000000     3.700000  ...     0.700000    26.000000\n",
              "50%      55.000000     4.600000  ...     0.900000    30.000000\n",
              "75%      59.000000     5.700000  ...     1.500000    33.000000\n",
              "max      79.000000    38.900000  ...    35.000000    47.750000\n",
              "\n",
              "[8 rows x 10 columns]"
            ]
          },
          "metadata": {},
          "execution_count": 48
        }
      ]
    },
    {
      "cell_type": "code",
      "metadata": {
        "colab": {
          "base_uri": "https://localhost:8080/",
          "height": 80
        },
        "id": "h9Qw1iZqlnim",
        "outputId": "9ed073a1-a3d9-4d92-b94c-b9faec61cb89"
      },
      "source": [
        "Data[\"Gender\"].replace({\"M\": 1, \"F\": 0}, inplace=True)\n",
        "Data.head(1)"
      ],
      "execution_count": null,
      "outputs": [
        {
          "output_type": "execute_result",
          "data": {
            "text/html": [
              "<div>\n",
              "<style scoped>\n",
              "    .dataframe tbody tr th:only-of-type {\n",
              "        vertical-align: middle;\n",
              "    }\n",
              "\n",
              "    .dataframe tbody tr th {\n",
              "        vertical-align: top;\n",
              "    }\n",
              "\n",
              "    .dataframe thead th {\n",
              "        text-align: right;\n",
              "    }\n",
              "</style>\n",
              "<table border=\"1\" class=\"dataframe\">\n",
              "  <thead>\n",
              "    <tr style=\"text-align: right;\">\n",
              "      <th></th>\n",
              "      <th>Gender</th>\n",
              "      <th>AGE</th>\n",
              "      <th>Urea</th>\n",
              "      <th>Cr</th>\n",
              "      <th>HbA1c</th>\n",
              "      <th>Chol</th>\n",
              "      <th>TG</th>\n",
              "      <th>HDL</th>\n",
              "      <th>LDL</th>\n",
              "      <th>VLDL</th>\n",
              "      <th>BMI</th>\n",
              "      <th>CLASS</th>\n",
              "    </tr>\n",
              "  </thead>\n",
              "  <tbody>\n",
              "    <tr>\n",
              "      <th>0</th>\n",
              "      <td>0</td>\n",
              "      <td>50</td>\n",
              "      <td>4.7</td>\n",
              "      <td>46</td>\n",
              "      <td>4.9</td>\n",
              "      <td>4.2</td>\n",
              "      <td>0.9</td>\n",
              "      <td>2.4</td>\n",
              "      <td>1.4</td>\n",
              "      <td>0.5</td>\n",
              "      <td>24.0</td>\n",
              "      <td>N</td>\n",
              "    </tr>\n",
              "  </tbody>\n",
              "</table>\n",
              "</div>"
            ],
            "text/plain": [
              "  Gender  AGE  Urea  Cr  HbA1c  Chol   TG  HDL  LDL  VLDL   BMI CLASS\n",
              "0      0   50   4.7  46    4.9   4.2  0.9  2.4  1.4   0.5  24.0     N"
            ]
          },
          "metadata": {},
          "execution_count": 49
        }
      ]
    },
    {
      "cell_type": "code",
      "metadata": {
        "id": "G_OZrTl5li3y"
      },
      "source": [
        "Data[\"CLASS\"].replace({\"N\": 0, \"P\": 1 , \"Y\" : 1 , \"N \":0 , \"Y \":1}, inplace=True)"
      ],
      "execution_count": null,
      "outputs": []
    },
    {
      "cell_type": "code",
      "metadata": {
        "colab": {
          "base_uri": "https://localhost:8080/",
          "height": 333
        },
        "id": "aCgzCGXHq6sA",
        "outputId": "31b2b0af-f3b3-42c6-f04a-07f556a3b312"
      },
      "source": [
        "import seaborn as sns\n",
        "from itertools import cycle\n",
        "color_cycle = cycle(plt.rcParams['axes.prop_cycle'].by_key()['color'])\n",
        "\n",
        "sns.countplot(Data['CLASS'])\n",
        "plt.show()"
      ],
      "execution_count": null,
      "outputs": [
        {
          "output_type": "stream",
          "name": "stderr",
          "text": [
            "/usr/local/lib/python3.7/dist-packages/seaborn/_decorators.py:43: FutureWarning: Pass the following variable as a keyword arg: x. From version 0.12, the only valid positional argument will be `data`, and passing other arguments without an explicit keyword will result in an error or misinterpretation.\n",
            "  FutureWarning\n"
          ]
        },
        {
          "output_type": "display_data",
          "data": {
            "image/png": "[encoded data removed]",
            "text/plain": [
              "<Figure size 432x288 with 1 Axes>"
            ]
          },
          "metadata": {
            "needs_background": "light"
          }
        }
      ]
    },
    {
      "cell_type": "code",
      "metadata": {
        "colab": {
          "base_uri": "https://localhost:8080/",
          "height": 204
        },
        "id": "21P8X0TKsPXC",
        "outputId": "77fcbc45-612a-4dd8-c884-874bed57c59c"
      },
      "source": [
        "Data.head()"
      ],
      "execution_count": null,
      "outputs": [
        {
          "output_type": "execute_result",
          "data": {
            "text/html": [
              "<div>\n",
              "<style scoped>\n",
              "    .dataframe tbody tr th:only-of-type {\n",
              "        vertical-align: middle;\n",
              "    }\n",
              "\n",
              "    .dataframe tbody tr th {\n",
              "        vertical-align: top;\n",
              "    }\n",
              "\n",
              "    .dataframe thead th {\n",
              "        text-align: right;\n",
              "    }\n",
              "</style>\n",
              "<table border=\"1\" class=\"dataframe\">\n",
              "  <thead>\n",
              "    <tr style=\"text-align: right;\">\n",
              "      <th></th>\n",
              "      <th>Gender</th>\n",
              "      <th>AGE</th>\n",
              "      <th>Urea</th>\n",
              "      <th>Cr</th>\n",
              "      <th>HbA1c</th>\n",
              "      <th>Chol</th>\n",
              "      <th>TG</th>\n",
              "      <th>HDL</th>\n",
              "      <th>LDL</th>\n",
              "      <th>VLDL</th>\n",
              "      <th>BMI</th>\n",
              "      <th>CLASS</th>\n",
              "    </tr>\n",
              "  </thead>\n",
              "  <tbody>\n",
              "    <tr>\n",
              "      <th>0</th>\n",
              "      <td>0</td>\n",
              "      <td>50</td>\n",
              "      <td>4.7</td>\n",
              "      <td>46</td>\n",
              "      <td>4.9</td>\n",
              "      <td>4.2</td>\n",
              "      <td>0.9</td>\n",
              "      <td>2.4</td>\n",
              "      <td>1.4</td>\n",
              "      <td>0.5</td>\n",
              "      <td>24.0</td>\n",
              "      <td>0</td>\n",
              "    </tr>\n",
              "    <tr>\n",
              "      <th>1</th>\n",
              "      <td>1</td>\n",
              "      <td>26</td>\n",
              "      <td>4.5</td>\n",
              "      <td>62</td>\n",
              "      <td>4.9</td>\n",
              "      <td>3.7</td>\n",
              "      <td>1.4</td>\n",
              "      <td>1.1</td>\n",
              "      <td>2.1</td>\n",
              "      <td>0.6</td>\n",
              "      <td>23.0</td>\n",
              "      <td>0</td>\n",
              "    </tr>\n",
              "    <tr>\n",
              "      <th>2</th>\n",
              "      <td>0</td>\n",
              "      <td>50</td>\n",
              "      <td>4.7</td>\n",
              "      <td>46</td>\n",
              "      <td>4.9</td>\n",
              "      <td>4.2</td>\n",
              "      <td>0.9</td>\n",
              "      <td>2.4</td>\n",
              "      <td>1.4</td>\n",
              "      <td>0.5</td>\n",
              "      <td>24.0</td>\n",
              "      <td>0</td>\n",
              "    </tr>\n",
              "    <tr>\n",
              "      <th>3</th>\n",
              "      <td>0</td>\n",
              "      <td>50</td>\n",
              "      <td>4.7</td>\n",
              "      <td>46</td>\n",
              "      <td>4.9</td>\n",
              "      <td>4.2</td>\n",
              "      <td>0.9</td>\n",
              "      <td>2.4</td>\n",
              "      <td>1.4</td>\n",
              "      <td>0.5</td>\n",
              "      <td>24.0</td>\n",
              "      <td>0</td>\n",
              "    </tr>\n",
              "    <tr>\n",
              "      <th>4</th>\n",
              "      <td>1</td>\n",
              "      <td>33</td>\n",
              "      <td>7.1</td>\n",
              "      <td>46</td>\n",
              "      <td>4.9</td>\n",
              "      <td>4.9</td>\n",
              "      <td>1.0</td>\n",
              "      <td>0.8</td>\n",
              "      <td>2.0</td>\n",
              "      <td>0.4</td>\n",
              "      <td>21.0</td>\n",
              "      <td>0</td>\n",
              "    </tr>\n",
              "  </tbody>\n",
              "</table>\n",
              "</div>"
            ],
            "text/plain": [
              "  Gender  AGE  Urea  Cr  HbA1c  Chol   TG  HDL  LDL  VLDL   BMI  CLASS\n",
              "0      0   50   4.7  46    4.9   4.2  0.9  2.4  1.4   0.5  24.0      0\n",
              "1      1   26   4.5  62    4.9   3.7  1.4  1.1  2.1   0.6  23.0      0\n",
              "2      0   50   4.7  46    4.9   4.2  0.9  2.4  1.4   0.5  24.0      0\n",
              "3      0   50   4.7  46    4.9   4.2  0.9  2.4  1.4   0.5  24.0      0\n",
              "4      1   33   7.1  46    4.9   4.9  1.0  0.8  2.0   0.4  21.0      0"
            ]
          },
          "metadata": {},
          "execution_count": 57
        }
      ]
    },
    {
      "cell_type": "code",
      "metadata": {
        "colab": {
          "base_uri": "https://localhost:8080/"
        },
        "id": "VZSUfo4krtTs",
        "outputId": "ebab34b2-228e-434b-dd71-4f87dd0c7080"
      },
      "source": [
        "Data['CLASS'].value_counts()"
      ],
      "execution_count": null,
      "outputs": [
        {
          "output_type": "execute_result",
          "data": {
            "text/plain": [
              "1    897\n",
              "0    103\n",
              "Name: CLASS, dtype: int64"
            ]
          },
          "metadata": {},
          "execution_count": 52
        }
      ]
    },
    {
      "cell_type": "code",
      "metadata": {
        "colab": {
          "base_uri": "https://localhost:8080/",
          "height": 248
        },
        "id": "efyeC0wNrRmP",
        "outputId": "ad00a64f-e6ee-430e-90da-57805210129f"
      },
      "source": [
        "fig, ax = plt.subplots()\n",
        "\n",
        "labels = ['Diabetic', \n",
        "         'Non-Diabetic']\n",
        "percentages = [89.97, 10.2]\n",
        "explode=(0.1,0)\n",
        "ax.pie(percentages, explode=explode, labels=labels, autopct='%1.0f%%', \n",
        "       shadow=False, startangle=0,   \n",
        "       pctdistance=1.2,labeldistance=1.4)\n",
        "ax.legend(frameon=False, bbox_to_anchor=(1.5,0.8))\n",
        "plt.show()"
      ],
      "execution_count": null,
      "outputs": [
        {
          "output_type": "display_data",
          "data": {
            "image/png": "[encoded data removed]",
            "text/plain": [
              "<Figure size 432x288 with 1 Axes>"
            ]
          },
          "metadata": {}
        }
      ]
    },
    {
      "cell_type": "code",
      "metadata": {
        "id": "lP8Wsex5uS3y"
      },
      "source": [
        "def mean_target(var):\n",
        "    \"\"\"\n",
        "    A function that will return the mean values for 'var' column depending on whether the person\n",
        "    is diabetic or not\n",
        "    \"\"\"\n",
        "    return pd.DataFrame(Data.groupby('CLASS').mean()[var])"
      ],
      "execution_count": null,
      "outputs": []
    },
    {
      "cell_type": "code",
      "metadata": {
        "id": "uF6PnzNRr33T"
      },
      "source": [
        "def distplot(col_name):\n",
        "    \"\"\"\n",
        "    A function that will plot the distribution of column 'col_name' for diabetic and non-diabetic people separately\n",
        "    \"\"\"\n",
        "    plt.figure()\n",
        "    ax = sns.distplot(Data[col_name][Data.CLASS == 1], color =\"red\", rug = True)\n",
        "    sns.distplot(Data[col_name][Data.CLASS == 0], color =\"lightblue\",rug = True)\n",
        "    plt.legend(['Diabetes', 'No Diabetes'])"
      ],
      "execution_count": null,
      "outputs": []
    },
    {
      "cell_type": "code",
      "metadata": {
        "colab": {
          "base_uri": "https://localhost:8080/",
          "height": 279
        },
        "id": "Apnqk-4aup_X",
        "outputId": "ae65f21c-4ba8-450b-bf0a-3a4d8d749aaf"
      },
      "source": [
        "distplot('AGE')"
      ],
      "execution_count": null,
      "outputs": [
        {
          "output_type": "display_data",
          "data": {
            "image/png": "[encoded data removed]",
            "text/plain": [
              "<Figure size 432x288 with 1 Axes>"
            ]
          },
          "metadata": {
            "needs_background": "light"
          }
        }
      ]
    },
    {
      "cell_type": "code",
      "metadata": {
        "colab": {
          "base_uri": "https://localhost:8080/",
          "height": 142
        },
        "id": "I69oyiv1uxjs",
        "outputId": "9d8429f4-de9a-4009-e771-8dd5082a0f59"
      },
      "source": [
        "mean_target('AGE')"
      ],
      "execution_count": null,
      "outputs": [
        {
          "output_type": "execute_result",
          "data": {
            "text/html": [
              "<div>\n",
              "<style scoped>\n",
              "    .dataframe tbody tr th:only-of-type {\n",
              "        vertical-align: middle;\n",
              "    }\n",
              "\n",
              "    .dataframe tbody tr th {\n",
              "        vertical-align: top;\n",
              "    }\n",
              "\n",
              "    .dataframe thead th {\n",
              "        text-align: right;\n",
              "    }\n",
              "</style>\n",
              "<table border=\"1\" class=\"dataframe\">\n",
              "  <thead>\n",
              "    <tr style=\"text-align: right;\">\n",
              "      <th></th>\n",
              "      <th>AGE</th>\n",
              "    </tr>\n",
              "    <tr>\n",
              "      <th>CLASS</th>\n",
              "      <th></th>\n",
              "    </tr>\n",
              "  </thead>\n",
              "  <tbody>\n",
              "    <tr>\n",
              "      <th>0</th>\n",
              "      <td>44.233010</td>\n",
              "    </tr>\n",
              "    <tr>\n",
              "      <th>1</th>\n",
              "      <td>54.595318</td>\n",
              "    </tr>\n",
              "  </tbody>\n",
              "</table>\n",
              "</div>"
            ],
            "text/plain": [
              "             AGE\n",
              "CLASS           \n",
              "0      44.233010\n",
              "1      54.595318"
            ]
          },
          "metadata": {},
          "execution_count": 67
        }
      ]
    },
    {
      "cell_type": "markdown",
      "metadata": {
        "id": "aNqh0_t4u6ng"
      },
      "source": [
        "We see that the mean age of diabetic patients is higher."
      ]
    },
    {
      "cell_type": "code",
      "metadata": {
        "colab": {
          "base_uri": "https://localhost:8080/",
          "height": 279
        },
        "id": "lcSAFnKVu5GW",
        "outputId": "17bedadb-ac5c-4e25-cf0e-36bf64dda734"
      },
      "source": [
        "distplot('Chol')"
      ],
      "execution_count": null,
      "outputs": [
        {
          "output_type": "display_data",
          "data": {
            "image/png": "[encoded data removed]",
            "text/plain": [
              "<Figure size 432x288 with 1 Axes>"
            ]
          },
          "metadata": {
            "needs_background": "light"
          }
        }
      ]
    },
    {
      "cell_type": "code",
      "metadata": {
        "colab": {
          "base_uri": "https://localhost:8080/",
          "height": 142
        },
        "id": "DUYaCZOrvI5f",
        "outputId": "e7794937-47b0-4525-b215-bc1e637d98c3"
      },
      "source": [
        "mean_target('Chol')"
      ],
      "execution_count": null,
      "outputs": [
        {
          "output_type": "execute_result",
          "data": {
            "text/html": [
              "<div>\n",
              "<style scoped>\n",
              "    .dataframe tbody tr th:only-of-type {\n",
              "        vertical-align: middle;\n",
              "    }\n",
              "\n",
              "    .dataframe tbody tr th {\n",
              "        vertical-align: top;\n",
              "    }\n",
              "\n",
              "    .dataframe thead th {\n",
              "        text-align: right;\n",
              "    }\n",
              "</style>\n",
              "<table border=\"1\" class=\"dataframe\">\n",
              "  <thead>\n",
              "    <tr style=\"text-align: right;\">\n",
              "      <th></th>\n",
              "      <th>Chol</th>\n",
              "    </tr>\n",
              "    <tr>\n",
              "      <th>CLASS</th>\n",
              "      <th></th>\n",
              "    </tr>\n",
              "  </thead>\n",
              "  <tbody>\n",
              "    <tr>\n",
              "      <th>0</th>\n",
              "      <td>4.268932</td>\n",
              "    </tr>\n",
              "    <tr>\n",
              "      <th>1</th>\n",
              "      <td>4.931014</td>\n",
              "    </tr>\n",
              "  </tbody>\n",
              "</table>\n",
              "</div>"
            ],
            "text/plain": [
              "           Chol\n",
              "CLASS          \n",
              "0      4.268932\n",
              "1      4.931014"
            ]
          },
          "metadata": {},
          "execution_count": 70
        }
      ]
    },
    {
      "cell_type": "markdown",
      "metadata": {
        "id": "xpH50iwuvWqG"
      },
      "source": [
        "The Chol content is higher for diabetic patients."
      ]
    },
    {
      "cell_type": "code",
      "metadata": {
        "colab": {
          "base_uri": "https://localhost:8080/",
          "height": 279
        },
        "id": "Iv0wPnWZvTG2",
        "outputId": "f79806b6-25e9-415d-834e-09c1a2f16ee0"
      },
      "source": [
        "distplot('TG')"
      ],
      "execution_count": null,
      "outputs": [
        {
          "output_type": "display_data",
          "data": {
            "image/png": "[encoded data removed]",
            "text/plain": [
              "<Figure size 432x288 with 1 Axes>"
            ]
          },
          "metadata": {
            "needs_background": "light"
          }
        }
      ]
    },
    {
      "cell_type": "code",
      "metadata": {
        "colab": {
          "base_uri": "https://localhost:8080/",
          "height": 142
        },
        "id": "AZbxxZugvlFx",
        "outputId": "4d27aa1c-45e1-48da-c86c-d40bc5835a82"
      },
      "source": [
        "mean_target('TG')"
      ],
      "execution_count": null,
      "outputs": [
        {
          "output_type": "execute_result",
          "data": {
            "text/html": [
              "<div>\n",
              "<style scoped>\n",
              "    .dataframe tbody tr th:only-of-type {\n",
              "        vertical-align: middle;\n",
              "    }\n",
              "\n",
              "    .dataframe tbody tr th {\n",
              "        vertical-align: top;\n",
              "    }\n",
              "\n",
              "    .dataframe thead th {\n",
              "        text-align: right;\n",
              "    }\n",
              "</style>\n",
              "<table border=\"1\" class=\"dataframe\">\n",
              "  <thead>\n",
              "    <tr style=\"text-align: right;\">\n",
              "      <th></th>\n",
              "      <th>TG</th>\n",
              "    </tr>\n",
              "    <tr>\n",
              "      <th>CLASS</th>\n",
              "      <th></th>\n",
              "    </tr>\n",
              "  </thead>\n",
              "  <tbody>\n",
              "    <tr>\n",
              "      <th>0</th>\n",
              "      <td>1.625243</td>\n",
              "    </tr>\n",
              "    <tr>\n",
              "      <th>1</th>\n",
              "      <td>2.432787</td>\n",
              "    </tr>\n",
              "  </tbody>\n",
              "</table>\n",
              "</div>"
            ],
            "text/plain": [
              "             TG\n",
              "CLASS          \n",
              "0      1.625243\n",
              "1      2.432787"
            ]
          },
          "metadata": {},
          "execution_count": 72
        }
      ]
    },
    {
      "cell_type": "markdown",
      "metadata": {
        "id": "dgfdvai8vpVM"
      },
      "source": [
        "Again the mean value for TG is higher for Diabetic patients ."
      ]
    },
    {
      "cell_type": "code",
      "metadata": {
        "colab": {
          "base_uri": "https://localhost:8080/",
          "height": 295
        },
        "id": "r4XtnEgewjoa",
        "outputId": "410abe07-8010-494a-9e1b-47bff0bbd818"
      },
      "source": [
        "my_pal = {0: \"lightyellow\", 1: \"lightpink\"}\n",
        "sns.boxplot(x = 'CLASS', y = 'BMI', data = Data, palette = my_pal)\n",
        "plt.title('BMI vs Outcome')\n",
        "plt.show()"
      ],
      "execution_count": null,
      "outputs": [
        {
          "output_type": "display_data",
          "data": {
            "image/png": "[encoded data removed]",
            "text/plain": [
              "<Figure size 432x288 with 1 Axes>"
            ]
          },
          "metadata": {
            "needs_background": "light"
          }
        }
      ]
    },
    {
      "cell_type": "markdown",
      "metadata": {
        "id": "ipURPOxnwpC4"
      },
      "source": [
        "The BMI of diabetic patients is significantly higher than non diabetic cases."
      ]
    },
    {
      "cell_type": "code",
      "metadata": {
        "colab": {
          "base_uri": "https://localhost:8080/",
          "height": 554
        },
        "id": "azZJXLFJvoSp",
        "outputId": "6f7b6502-bc5a-4011-fc0d-10bc16cc09fd"
      },
      "source": [
        "corr = Data.corr()\n",
        "\n",
        "# Generate a mask for the upper triangle\n",
        "mask = np.triu(np.ones_like(corr, dtype=bool))\n",
        "\n",
        "# Set up the matplotlib figure\n",
        "f, ax = plt.subplots(figsize=(11, 9))\n",
        "\n",
        "# Generate a custom diverging colormap\n",
        "cmap = sns.diverging_palette(230, 20, as_cmap=True)\n",
        "\n",
        "# Draw the heatmap with the mask and correct aspect ratio\n",
        "sns.heatmap(corr, mask=mask, cmap=cmap, vmax=1.0, center=0,\n",
        "            square=True, linewidths=.5, cbar_kws={\"shrink\": .5}, annot = True)"
      ],
      "execution_count": null,
      "outputs": [
        {
          "output_type": "execute_result",
          "data": {
            "text/plain": [
              "<matplotlib.axes._subplots.AxesSubplot at 0x7f759d7dbe10>"
            ]
          },
          "metadata": {},
          "execution_count": 80
        },
        {
          "output_type": "display_data",
          "data": {
            "image/png": "[encoded data removed]",
            "text/plain": [
              "<Figure size 792x648 with 2 Axes>"
            ]
          },
          "metadata": {
            "needs_background": "light"
          }
        }
      ]
    },
    {
      "cell_type": "code",
      "metadata": {
        "id": "I2rfFHZ8vwpT"
      },
      "source": [
        "from sklearn.model_selection import train_test_split\n",
        "\n",
        "X = Data.drop('CLASS', axis = 1)\n",
        "y = Data['CLASS']\n",
        "\n",
        "X_train, X_test, y_train, y_test = train_test_split(X, y, test_size = 0.25, random_state = 42, stratify = y)"
      ],
      "execution_count": null,
      "outputs": []
    },
    {
      "cell_type": "code",
      "metadata": {
        "colab": {
          "base_uri": "https://localhost:8080/",
          "height": 204
        },
        "id": "2JOJyeAG7_Ew",
        "outputId": "b99a8950-e6d4-453b-df4d-7aca716d096b"
      },
      "source": [
        "X.head()"
      ],
      "execution_count": null,
      "outputs": [
        {
          "output_type": "execute_result",
          "data": {
            "text/html": [
              "<div>\n",
              "<style scoped>\n",
              "    .dataframe tbody tr th:only-of-type {\n",
              "        vertical-align: middle;\n",
              "    }\n",
              "\n",
              "    .dataframe tbody tr th {\n",
              "        vertical-align: top;\n",
              "    }\n",
              "\n",
              "    .dataframe thead th {\n",
              "        text-align: right;\n",
              "    }\n",
              "</style>\n",
              "<table border=\"1\" class=\"dataframe\">\n",
              "  <thead>\n",
              "    <tr style=\"text-align: right;\">\n",
              "      <th></th>\n",
              "      <th>Gender</th>\n",
              "      <th>AGE</th>\n",
              "      <th>Urea</th>\n",
              "      <th>Cr</th>\n",
              "      <th>HbA1c</th>\n",
              "      <th>Chol</th>\n",
              "      <th>TG</th>\n",
              "      <th>HDL</th>\n",
              "      <th>LDL</th>\n",
              "      <th>VLDL</th>\n",
              "      <th>BMI</th>\n",
              "    </tr>\n",
              "  </thead>\n",
              "  <tbody>\n",
              "    <tr>\n",
              "      <th>0</th>\n",
              "      <td>0</td>\n",
              "      <td>50</td>\n",
              "      <td>4.7</td>\n",
              "      <td>46</td>\n",
              "      <td>4.9</td>\n",
              "      <td>4.2</td>\n",
              "      <td>0.9</td>\n",
              "      <td>2.4</td>\n",
              "      <td>1.4</td>\n",
              "      <td>0.5</td>\n",
              "      <td>24.0</td>\n",
              "    </tr>\n",
              "    <tr>\n",
              "      <th>1</th>\n",
              "      <td>1</td>\n",
              "      <td>26</td>\n",
              "      <td>4.5</td>\n",
              "      <td>62</td>\n",
              "      <td>4.9</td>\n",
              "      <td>3.7</td>\n",
              "      <td>1.4</td>\n",
              "      <td>1.1</td>\n",
              "      <td>2.1</td>\n",
              "      <td>0.6</td>\n",
              "      <td>23.0</td>\n",
              "    </tr>\n",
              "    <tr>\n",
              "      <th>2</th>\n",
              "      <td>0</td>\n",
              "      <td>50</td>\n",
              "      <td>4.7</td>\n",
              "      <td>46</td>\n",
              "      <td>4.9</td>\n",
              "      <td>4.2</td>\n",
              "      <td>0.9</td>\n",
              "      <td>2.4</td>\n",
              "      <td>1.4</td>\n",
              "      <td>0.5</td>\n",
              "      <td>24.0</td>\n",
              "    </tr>\n",
              "    <tr>\n",
              "      <th>3</th>\n",
              "      <td>0</td>\n",
              "      <td>50</td>\n",
              "      <td>4.7</td>\n",
              "      <td>46</td>\n",
              "      <td>4.9</td>\n",
              "      <td>4.2</td>\n",
              "      <td>0.9</td>\n",
              "      <td>2.4</td>\n",
              "      <td>1.4</td>\n",
              "      <td>0.5</td>\n",
              "      <td>24.0</td>\n",
              "    </tr>\n",
              "    <tr>\n",
              "      <th>4</th>\n",
              "      <td>1</td>\n",
              "      <td>33</td>\n",
              "      <td>7.1</td>\n",
              "      <td>46</td>\n",
              "      <td>4.9</td>\n",
              "      <td>4.9</td>\n",
              "      <td>1.0</td>\n",
              "      <td>0.8</td>\n",
              "      <td>2.0</td>\n",
              "      <td>0.4</td>\n",
              "      <td>21.0</td>\n",
              "    </tr>\n",
              "  </tbody>\n",
              "</table>\n",
              "</div>"
            ],
            "text/plain": [
              "  Gender  AGE  Urea  Cr  HbA1c  Chol   TG  HDL  LDL  VLDL   BMI\n",
              "0      0   50   4.7  46    4.9   4.2  0.9  2.4  1.4   0.5  24.0\n",
              "1      1   26   4.5  62    4.9   3.7  1.4  1.1  2.1   0.6  23.0\n",
              "2      0   50   4.7  46    4.9   4.2  0.9  2.4  1.4   0.5  24.0\n",
              "3      0   50   4.7  46    4.9   4.2  0.9  2.4  1.4   0.5  24.0\n",
              "4      1   33   7.1  46    4.9   4.9  1.0  0.8  2.0   0.4  21.0"
            ]
          },
          "metadata": {},
          "execution_count": 124
        }
      ]
    },
    {
      "cell_type": "code",
      "metadata": {
        "id": "JYIfEfQVyO3B"
      },
      "source": [
        "from sklearn.preprocessing import StandardScaler\n",
        "sc = StandardScaler()\n",
        "train  = sc.fit_transform(X_train.drop('Gender' , axis = 1))\n",
        "test  = sc.fit_transform(X_test.drop('Gender' , axis = 1))"
      ],
      "execution_count": null,
      "outputs": []
    },
    {
      "cell_type": "code",
      "metadata": {
        "id": "DepVRMrB3fxq"
      },
      "source": [
        "Train = pd.DataFrame(train, columns = ['AGE', 'Urea', 'Cr', 'HbA1c', 'Chol', 'TG', 'HDL', 'LDL',\n",
        "       'VLDL', 'BMI'])"
      ],
      "execution_count": null,
      "outputs": []
    },
    {
      "cell_type": "code",
      "metadata": {
        "colab": {
          "base_uri": "https://localhost:8080/",
          "height": 204
        },
        "id": "o5Osz7B68Eaj",
        "outputId": "883596ab-596b-4088-b3a5-b13f3057ad34"
      },
      "source": [
        "Train.head()"
      ],
      "execution_count": null,
      "outputs": [
        {
          "output_type": "execute_result",
          "data": {
            "text/html": [
              "<div>\n",
              "<style scoped>\n",
              "    .dataframe tbody tr th:only-of-type {\n",
              "        vertical-align: middle;\n",
              "    }\n",
              "\n",
              "    .dataframe tbody tr th {\n",
              "        vertical-align: top;\n",
              "    }\n",
              "\n",
              "    .dataframe thead th {\n",
              "        text-align: right;\n",
              "    }\n",
              "</style>\n",
              "<table border=\"1\" class=\"dataframe\">\n",
              "  <thead>\n",
              "    <tr style=\"text-align: right;\">\n",
              "      <th></th>\n",
              "      <th>AGE</th>\n",
              "      <th>Urea</th>\n",
              "      <th>Cr</th>\n",
              "      <th>HbA1c</th>\n",
              "      <th>Chol</th>\n",
              "      <th>TG</th>\n",
              "      <th>HDL</th>\n",
              "      <th>LDL</th>\n",
              "      <th>VLDL</th>\n",
              "      <th>BMI</th>\n",
              "    </tr>\n",
              "  </thead>\n",
              "  <tbody>\n",
              "    <tr>\n",
              "      <th>0</th>\n",
              "      <td>1.110482</td>\n",
              "      <td>-0.531218</td>\n",
              "      <td>-0.246027</td>\n",
              "      <td>0.735353</td>\n",
              "      <td>0.786409</td>\n",
              "      <td>0.540811</td>\n",
              "      <td>-0.146935</td>\n",
              "      <td>-0.026327</td>\n",
              "      <td>-0.141357</td>\n",
              "      <td>-0.305935</td>\n",
              "    </tr>\n",
              "    <tr>\n",
              "      <th>1</th>\n",
              "      <td>1.110482</td>\n",
              "      <td>1.205715</td>\n",
              "      <td>0.404868</td>\n",
              "      <td>0.302236</td>\n",
              "      <td>0.786409</td>\n",
              "      <td>-0.096693</td>\n",
              "      <td>-0.007121</td>\n",
              "      <td>0.959599</td>\n",
              "      <td>-0.241943</td>\n",
              "      <td>-0.104589</td>\n",
              "    </tr>\n",
              "    <tr>\n",
              "      <th>2</th>\n",
              "      <td>-0.706010</td>\n",
              "      <td>0.003223</td>\n",
              "      <td>-0.012373</td>\n",
              "      <td>-1.666474</td>\n",
              "      <td>0.331065</td>\n",
              "      <td>-0.025859</td>\n",
              "      <td>-0.706192</td>\n",
              "      <td>0.959599</td>\n",
              "      <td>-0.241943</td>\n",
              "      <td>-1.312660</td>\n",
              "    </tr>\n",
              "    <tr>\n",
              "      <th>3</th>\n",
              "      <td>0.202236</td>\n",
              "      <td>0.103431</td>\n",
              "      <td>0.271351</td>\n",
              "      <td>0.577856</td>\n",
              "      <td>0.255174</td>\n",
              "      <td>-0.380028</td>\n",
              "      <td>0.132693</td>\n",
              "      <td>0.511451</td>\n",
              "      <td>-0.292237</td>\n",
              "      <td>0.096756</td>\n",
              "    </tr>\n",
              "    <tr>\n",
              "      <th>4</th>\n",
              "      <td>-0.365418</td>\n",
              "      <td>-0.130387</td>\n",
              "      <td>-0.379544</td>\n",
              "      <td>-1.312106</td>\n",
              "      <td>-0.503731</td>\n",
              "      <td>-1.017532</td>\n",
              "      <td>1.670648</td>\n",
              "      <td>-1.101884</td>\n",
              "      <td>-0.367676</td>\n",
              "      <td>-1.111315</td>\n",
              "    </tr>\n",
              "  </tbody>\n",
              "</table>\n",
              "</div>"
            ],
            "text/plain": [
              "        AGE      Urea        Cr  ...       LDL      VLDL       BMI\n",
              "0  1.110482 -0.531218 -0.246027  ... -0.026327 -0.141357 -0.305935\n",
              "1  1.110482  1.205715  0.404868  ...  0.959599 -0.241943 -0.104589\n",
              "2 -0.706010  0.003223 -0.012373  ...  0.959599 -0.241943 -1.312660\n",
              "3  0.202236  0.103431  0.271351  ...  0.511451 -0.292237  0.096756\n",
              "4 -0.365418 -0.130387 -0.379544  ... -1.101884 -0.367676 -1.111315\n",
              "\n",
              "[5 rows x 10 columns]"
            ]
          },
          "metadata": {},
          "execution_count": 126
        }
      ]
    },
    {
      "cell_type": "code",
      "metadata": {
        "id": "hWUwJ1_K6m5J"
      },
      "source": [
        "Test = pd.DataFrame(test, columns = ['AGE', 'Urea', 'Cr', 'HbA1c', 'Chol', 'TG', 'HDL', 'LDL',\n",
        "       'VLDL', 'BMI'])"
      ],
      "execution_count": null,
      "outputs": []
    },
    {
      "cell_type": "code",
      "metadata": {
        "id": "fQM9yOcm1WjQ",
        "cellView": "form"
      },
      "source": [
        "#@title evaluation\n",
        "def evaluation(model, x_train_std, y_train, x_test, y_test, train = True):\n",
        "    \"\"\"\n",
        "    A function that returns the score of every evaluation metrics\n",
        "    \"\"\"\n",
        "    if train == True:\n",
        "        pred = model.predict(x_train_std)\n",
        "        classifier_report = pd.DataFrame(classification_report(y_train, pred, output_dict = True))\n",
        "        print(\"Train Result:\\n================================================\")\n",
        "        print(f\"Accuracy Score: {accuracy_score(y_train, pred) * 100:.2f}%\")\n",
        "        print(\"_______________________________________________\")\n",
        "        print(f\"F1 Score: {round(f1_score(y_train, pred), 2)}\")\n",
        "        print(\"_______________________________________________\")\n",
        "        print(f\"CLASSIFICATION REPORT:\\n{classifier_report}\")\n",
        "        print(\"_______________________________________________\")\n",
        "        print(f\"Confusion Matrix: \\n {confusion_matrix(y_train, pred)}\\n\")\n",
        "        \n",
        "    if train == False:\n",
        "        pred = model.predict(x_test)\n",
        "        classifier_report = pd.DataFrame(classification_report(y_test, pred, output_dict = True))\n",
        "        print(\"Test Result:\\n================================================\")\n",
        "        print(f\"Accuracy Score: {accuracy_score(y_test, pred) * 100:.2f}%\")\n",
        "        print(\"_______________________________________________\")\n",
        "        print(f\"F1 Score: {round(f1_score(y_test, pred), 2)}\")\n",
        "        print(\"_______________________________________________\")\n",
        "        print(f\"CLASSIFICATION REPORT:\\n{classifier_report}\")\n",
        "        print(\"_______________________________________________\")\n",
        "        print(f\"Confusion Matrix: \\n {confusion_matrix(y_test, pred)}\\n\")"
      ],
      "execution_count": null,
      "outputs": []
    },
    {
      "cell_type": "code",
      "metadata": {
        "colab": {
          "base_uri": "https://localhost:8080/"
        },
        "id": "k2SNAMYc3Hu7",
        "outputId": "826b2b6c-873a-410a-f2b4-04ffe77d71c3"
      },
      "source": [
        "from sklearn.linear_model import LogisticRegression\n",
        "\n",
        "lr = LogisticRegression(solver = 'liblinear')\n",
        "lr.fit(Train, y_train)\n",
        "\n",
        "evaluation(lr, Train, y_train, Test, y_test, True)\n",
        "print()\n",
        "evaluation(lr, Train, y_train, Test, y_test, False)"
      ],
      "execution_count": null,
      "outputs": [
        {
          "output_type": "stream",
          "name": "stdout",
          "text": [
            "Train Result:\n",
            "================================================\n",
            "Accuracy Score: 96.80%\n",
            "_______________________________________________\n",
            "F1 Score: 0.98\n",
            "_______________________________________________\n",
            "CLASSIFICATION REPORT:\n",
            "                   0           1  accuracy   macro avg  weighted avg\n",
            "precision   0.835443    0.983607     0.968    0.909525      0.968395\n",
            "recall      0.857143    0.980684     0.968    0.918913      0.968000\n",
            "f1-score    0.846154    0.982143     0.968    0.914148      0.968181\n",
            "support    77.000000  673.000000     0.968  750.000000    750.000000\n",
            "_______________________________________________\n",
            "Confusion Matrix: \n",
            " [[ 66  11]\n",
            " [ 13 660]]\n",
            "\n",
            "\n",
            "Test Result:\n",
            "================================================\n",
            "Accuracy Score: 96.80%\n",
            "_______________________________________________\n",
            "F1 Score: 0.98\n",
            "_______________________________________________\n",
            "CLASSIFICATION REPORT:\n",
            "                   0           1  accuracy   macro avg  weighted avg\n",
            "precision   0.821429    0.986486     0.968    0.903958      0.969320\n",
            "recall      0.884615    0.977679     0.968    0.931147      0.968000\n",
            "f1-score    0.851852    0.982063     0.968    0.916957      0.968521\n",
            "support    26.000000  224.000000     0.968  250.000000    250.000000\n",
            "_______________________________________________\n",
            "Confusion Matrix: \n",
            " [[ 23   3]\n",
            " [  5 219]]\n",
            "\n"
          ]
        }
      ]
    },
    {
      "cell_type": "code",
      "metadata": {
        "id": "FJtV6Rq16xgV"
      },
      "source": [
        "train_score_lr = round(accuracy_score(y_train, lr.predict(Train)) * 100, 2)\n",
        "test_score_lr = round(accuracy_score(y_test, lr.predict(Test)) * 100, 2)"
      ],
      "execution_count": null,
      "outputs": []
    },
    {
      "cell_type": "code",
      "metadata": {
        "colab": {
          "base_uri": "https://localhost:8080/"
        },
        "id": "Kvu7ZKhg61XV",
        "outputId": "485dc50c-c4bf-4e47-e296-5c2e27f4df0c"
      },
      "source": [
        "from sklearn.tree import DecisionTreeClassifier\n",
        "\n",
        "dtc = DecisionTreeClassifier()\n",
        "dtc.fit(Train, y_train)\n",
        "\n",
        "evaluation(dtc, Train, y_train, Test, y_test, True)\n",
        "print()\n",
        "evaluation(dtc, Train, y_train, Test, y_test, False)"
      ],
      "execution_count": null,
      "outputs": [
        {
          "output_type": "stream",
          "name": "stdout",
          "text": [
            "Train Result:\n",
            "================================================\n",
            "Accuracy Score: 100.00%\n",
            "_______________________________________________\n",
            "F1 Score: 1.0\n",
            "_______________________________________________\n",
            "CLASSIFICATION REPORT:\n",
            "              0      1  accuracy  macro avg  weighted avg\n",
            "precision   1.0    1.0       1.0        1.0           1.0\n",
            "recall      1.0    1.0       1.0        1.0           1.0\n",
            "f1-score    1.0    1.0       1.0        1.0           1.0\n",
            "support    77.0  673.0       1.0      750.0         750.0\n",
            "_______________________________________________\n",
            "Confusion Matrix: \n",
            " [[ 77   0]\n",
            " [  0 673]]\n",
            "\n",
            "\n",
            "Test Result:\n",
            "================================================\n",
            "Accuracy Score: 98.80%\n",
            "_______________________________________________\n",
            "F1 Score: 0.99\n",
            "_______________________________________________\n",
            "CLASSIFICATION REPORT:\n",
            "                   0           1  accuracy   macro avg  weighted avg\n",
            "precision   0.925926    0.995516     0.988    0.960721      0.988278\n",
            "recall      0.961538    0.991071     0.988    0.976305      0.988000\n",
            "f1-score    0.943396    0.993289     0.988    0.968342      0.988100\n",
            "support    26.000000  224.000000     0.988  250.000000    250.000000\n",
            "_______________________________________________\n",
            "Confusion Matrix: \n",
            " [[ 25   1]\n",
            " [  2 222]]\n",
            "\n"
          ]
        }
      ]
    },
    {
      "cell_type": "code",
      "metadata": {
        "id": "du1oZ-Rv6_7Q"
      },
      "source": [
        "train_score_dtc = round(accuracy_score(y_train, dtc.predict(Train)) * 100, 2)\n",
        "test_score_dtc = round(accuracy_score(y_test, dtc.predict(Test)) * 100, 2)"
      ],
      "execution_count": null,
      "outputs": []
    },
    {
      "cell_type": "code",
      "metadata": {
        "colab": {
          "base_uri": "https://localhost:8080/",
          "height": 282
        },
        "id": "MSsrCREW7Twq",
        "outputId": "106297f8-cb66-4284-9085-07aec7ac7f4e"
      },
      "source": [
        "from sklearn.neighbors import KNeighborsClassifier\n",
        "\n",
        "accuracy_scores = []\n",
        "\n",
        "for i in range(1, 10):\n",
        "    knn = KNeighborsClassifier(n_neighbors = i)\n",
        "    knn.fit(Train, y_train)\n",
        "    accuracy_scores.append(accuracy_score(y_test, knn.predict(Test)))\n",
        "    \n",
        "plt.plot(accuracy_scores)"
      ],
      "execution_count": null,
      "outputs": [
        {
          "output_type": "execute_result",
          "data": {
            "text/plain": [
              "[<matplotlib.lines.Line2D at 0x7f759da93790>]"
            ]
          },
          "metadata": {},
          "execution_count": 120
        },
        {
          "output_type": "display_data",
          "data": {
            "image/png": "[encoded data removed]",
            "text/plain": [
              "<Figure size 432x288 with 1 Axes>"
            ]
          },
          "metadata": {
            "needs_background": "light"
          }
        }
      ]
    },
    {
      "cell_type": "code",
      "metadata": {
        "colab": {
          "base_uri": "https://localhost:8080/"
        },
        "id": "dEX-uzqc7Zbn",
        "outputId": "a0f6329f-55ad-4342-d803-bfd439159bd9"
      },
      "source": [
        "knn = KNeighborsClassifier(n_neighbors = 2)\n",
        "knn.fit(Train, y_train)\n",
        "\n",
        "evaluation(knn, Train, y_train, Test, y_test, True)\n",
        "evaluation(knn, Train, y_train, Test, y_test, False)"
      ],
      "execution_count": null,
      "outputs": [
        {
          "output_type": "stream",
          "name": "stdout",
          "text": [
            "Train Result:\n",
            "================================================\n",
            "Accuracy Score: 97.73%\n",
            "_______________________________________________\n",
            "F1 Score: 0.99\n",
            "_______________________________________________\n",
            "CLASSIFICATION REPORT:\n",
            "                   0           1  accuracy   macro avg  weighted avg\n",
            "precision   0.819149    1.000000  0.977333    0.909574      0.981433\n",
            "recall      1.000000    0.974740  0.977333    0.987370      0.977333\n",
            "f1-score    0.900585    0.987208  0.977333    0.943897      0.978315\n",
            "support    77.000000  673.000000  0.977333  750.000000    750.000000\n",
            "_______________________________________________\n",
            "Confusion Matrix: \n",
            " [[ 77   0]\n",
            " [ 17 656]]\n",
            "\n",
            "Test Result:\n",
            "================================================\n",
            "Accuracy Score: 95.20%\n",
            "_______________________________________________\n",
            "F1 Score: 0.97\n",
            "_______________________________________________\n",
            "CLASSIFICATION REPORT:\n",
            "                   0           1  accuracy   macro avg  weighted avg\n",
            "precision   0.769231    0.973214     0.952    0.871223         0.952\n",
            "recall      0.769231    0.973214     0.952    0.871223         0.952\n",
            "f1-score    0.769231    0.973214     0.952    0.871223         0.952\n",
            "support    26.000000  224.000000     0.952  250.000000       250.000\n",
            "_______________________________________________\n",
            "Confusion Matrix: \n",
            " [[ 20   6]\n",
            " [  6 218]]\n",
            "\n"
          ]
        }
      ]
    },
    {
      "cell_type": "code",
      "metadata": {
        "id": "5DpICq0N7nUB"
      },
      "source": [
        "train_score_knn = round(accuracy_score(y_train, knn.predict(Train)) * 100, 2)\n",
        "test_score_knn = round(accuracy_score(y_test, knn.predict(Test)) * 100, 2)"
      ],
      "execution_count": null,
      "outputs": []
    },
    {
      "cell_type": "code",
      "metadata": {
        "colab": {
          "base_uri": "https://localhost:8080/"
        },
        "id": "HfaLYW687tbG",
        "outputId": "f6195eeb-5748-4c14-b753-22311af290af"
      },
      "source": [
        "from xgboost import XGBClassifier\n",
        "\n",
        "xgb = XGBClassifier(n_estimators = 500, learning_rate = 0.15)\n",
        "xgb.fit(Train, y_train)\n",
        "\n",
        "evaluation(xgb, Train, y_train, Test, y_test, True)\n",
        "evaluation(xgb, Train, y_train, Test, y_test, False)"
      ],
      "execution_count": null,
      "outputs": [
        {
          "output_type": "stream",
          "name": "stdout",
          "text": [
            "Train Result:\n",
            "================================================\n",
            "Accuracy Score: 100.00%\n",
            "_______________________________________________\n",
            "F1 Score: 1.0\n",
            "_______________________________________________\n",
            "CLASSIFICATION REPORT:\n",
            "              0      1  accuracy  macro avg  weighted avg\n",
            "precision   1.0    1.0       1.0        1.0           1.0\n",
            "recall      1.0    1.0       1.0        1.0           1.0\n",
            "f1-score    1.0    1.0       1.0        1.0           1.0\n",
            "support    77.0  673.0       1.0      750.0         750.0\n",
            "_______________________________________________\n",
            "Confusion Matrix: \n",
            " [[ 77   0]\n",
            " [  0 673]]\n",
            "\n",
            "Test Result:\n",
            "================================================\n",
            "Accuracy Score: 98.40%\n",
            "_______________________________________________\n",
            "F1 Score: 0.99\n",
            "_______________________________________________\n",
            "CLASSIFICATION REPORT:\n",
            "                   0           1  accuracy   macro avg  weighted avg\n",
            "precision   0.923077    0.991071     0.984    0.957074         0.984\n",
            "recall      0.923077    0.991071     0.984    0.957074         0.984\n",
            "f1-score    0.923077    0.991071     0.984    0.957074         0.984\n",
            "support    26.000000  224.000000     0.984  250.000000       250.000\n",
            "_______________________________________________\n",
            "Confusion Matrix: \n",
            " [[ 24   2]\n",
            " [  2 222]]\n",
            "\n"
          ]
        }
      ]
    },
    {
      "cell_type": "code",
      "metadata": {
        "id": "lFN7Wn-87668"
      },
      "source": [
        "train_score_xgb = round(accuracy_score(y_train, xgb.predict(Train)) * 100, 2)\n",
        "test_score_xgb = round(accuracy_score(y_test, xgb.predict(Test)) * 100, 2)"
      ],
      "execution_count": null,
      "outputs": []
    },
    {
      "cell_type": "code",
      "metadata": {
        "colab": {
          "base_uri": "https://localhost:8080/",
          "height": 173
        },
        "id": "S-npJ45r8OQQ",
        "outputId": "0c036386-382f-40b1-b615-e6a10b471743"
      },
      "source": [
        "models = {\n",
        "           'Train Accuracy': [train_score_lr, train_score_dtc,  train_score_knn, train_score_xgb],\n",
        "          'Test Accuracy' : [test_score_lr, test_score_dtc,  test_score_knn, test_score_xgb]\n",
        "         }\n",
        "\n",
        "models = pd.DataFrame(models, index = ['Logistic Regression', 'Decision Tree Classifier',  'K-Nearest Neighbor', 'XGBoost'])\n",
        "models.head()"
      ],
      "execution_count": null,
      "outputs": [
        {
          "output_type": "execute_result",
          "data": {
            "text/html": [
              "<div>\n",
              "<style scoped>\n",
              "    .dataframe tbody tr th:only-of-type {\n",
              "        vertical-align: middle;\n",
              "    }\n",
              "\n",
              "    .dataframe tbody tr th {\n",
              "        vertical-align: top;\n",
              "    }\n",
              "\n",
              "    .dataframe thead th {\n",
              "        text-align: right;\n",
              "    }\n",
              "</style>\n",
              "<table border=\"1\" class=\"dataframe\">\n",
              "  <thead>\n",
              "    <tr style=\"text-align: right;\">\n",
              "      <th></th>\n",
              "      <th>Train Accuracy</th>\n",
              "      <th>Test Accuracy</th>\n",
              "    </tr>\n",
              "  </thead>\n",
              "  <tbody>\n",
              "    <tr>\n",
              "      <th>Logistic Regression</th>\n",
              "      <td>96.80</td>\n",
              "      <td>96.8</td>\n",
              "    </tr>\n",
              "    <tr>\n",
              "      <th>Decision Tree Classifier</th>\n",
              "      <td>100.00</td>\n",
              "      <td>98.8</td>\n",
              "    </tr>\n",
              "    <tr>\n",
              "      <th>K-Nearest Neighbor</th>\n",
              "      <td>97.73</td>\n",
              "      <td>95.2</td>\n",
              "    </tr>\n",
              "    <tr>\n",
              "      <th>XGBoost</th>\n",
              "      <td>100.00</td>\n",
              "      <td>98.4</td>\n",
              "    </tr>\n",
              "  </tbody>\n",
              "</table>\n",
              "</div>"
            ],
            "text/plain": [
              "                          Train Accuracy  Test Accuracy\n",
              "Logistic Regression                96.80           96.8\n",
              "Decision Tree Classifier          100.00           98.8\n",
              "K-Nearest Neighbor                 97.73           95.2\n",
              "XGBoost                           100.00           98.4"
            ]
          },
          "metadata": {},
          "execution_count": 128
        }
      ]
    },
    {
      "cell_type": "markdown",
      "metadata": {
        "id": "WY7PHYgT8WAB"
      },
      "source": [
        "**Cross Validation**"
      ]
    },
    {
      "cell_type": "code",
      "metadata": {
        "colab": {
          "base_uri": "https://localhost:8080/",
          "height": 451
        },
        "cellView": "code",
        "id": "57L7bIxX8TLK",
        "outputId": "984fdf10-ba28-4e28-cd02-6199783af95a"
      },
      "source": [
        "#@title Cross validation.\n",
        "from sklearn.model_selection import cross_val_score, StratifiedKFold\n",
        "from sklearn.ensemble import AdaBoostClassifier\n",
        "\n",
        "kfold = StratifiedKFold(n_splits=10)\n",
        "\n",
        "random_state = 0\n",
        "classifiers = []\n",
        "classifiers.append(LogisticRegression(random_state = random_state))\n",
        "classifiers.append(DecisionTreeClassifier(random_state=random_state))\n",
        "\n",
        "classifiers.append(KNeighborsClassifier())\n",
        "classifiers.append(XGBClassifier(random_state=random_state))\n",
        "\n",
        "cv_results = []\n",
        "for classifier in classifiers :\n",
        "    cv_results.append(cross_val_score(classifier, Train, y = y_train, scoring = \"accuracy\", cv = kfold, n_jobs=-1))\n",
        "\n",
        "cv_means = []\n",
        "cv_std = []\n",
        "for cv_result in cv_results:\n",
        "    cv_means.append(cv_result.mean())\n",
        "    cv_std.append(cv_result.std())\n",
        "\n",
        "cv_res = pd.DataFrame({\"CrossValMeans\":cv_means,\"CrossValerrors\": cv_std,\"Algorithm\":[\"Logistic Regression\",\"Decision Tree\",\n",
        " \"KNeighboors\", \"XGBoosting\"]})\n",
        "\n",
        "g = sns.barplot(\"CrossValMeans\",\"Algorithm\",data = cv_res, palette=\"Set3\",orient = \"h\",**{'xerr':cv_std})\n",
        "g.set_xlabel(\"Mean Accuracy\")\n",
        "g = g.set_title(\"Cross validation scores\")\n",
        "\n",
        "cv_res.head()"
      ],
      "execution_count": null,
      "outputs": [
        {
          "output_type": "execute_result",
          "data": {
            "text/html": [
              "<div>\n",
              "<style scoped>\n",
              "    .dataframe tbody tr th:only-of-type {\n",
              "        vertical-align: middle;\n",
              "    }\n",
              "\n",
              "    .dataframe tbody tr th {\n",
              "        vertical-align: top;\n",
              "    }\n",
              "\n",
              "    .dataframe thead th {\n",
              "        text-align: right;\n",
              "    }\n",
              "</style>\n",
              "<table border=\"1\" class=\"dataframe\">\n",
              "  <thead>\n",
              "    <tr style=\"text-align: right;\">\n",
              "      <th></th>\n",
              "      <th>CrossValMeans</th>\n",
              "      <th>CrossValerrors</th>\n",
              "      <th>Algorithm</th>\n",
              "    </tr>\n",
              "  </thead>\n",
              "  <tbody>\n",
              "    <tr>\n",
              "      <th>0</th>\n",
              "      <td>0.961333</td>\n",
              "      <td>0.020177</td>\n",
              "      <td>Logistic Regression</td>\n",
              "    </tr>\n",
              "    <tr>\n",
              "      <th>1</th>\n",
              "      <td>0.988000</td>\n",
              "      <td>0.015144</td>\n",
              "      <td>Decision Tree</td>\n",
              "    </tr>\n",
              "    <tr>\n",
              "      <th>2</th>\n",
              "      <td>0.941333</td>\n",
              "      <td>0.033307</td>\n",
              "      <td>KNeighboors</td>\n",
              "    </tr>\n",
              "    <tr>\n",
              "      <th>3</th>\n",
              "      <td>0.986667</td>\n",
              "      <td>0.011926</td>\n",
              "      <td>XGBoosting</td>\n",
              "    </tr>\n",
              "  </tbody>\n",
              "</table>\n",
              "</div>"
            ],
            "text/plain": [
              "   CrossValMeans  CrossValerrors            Algorithm\n",
              "0       0.961333        0.020177  Logistic Regression\n",
              "1       0.988000        0.015144        Decision Tree\n",
              "2       0.941333        0.033307          KNeighboors\n",
              "3       0.986667        0.011926           XGBoosting"
            ]
          },
          "metadata": {},
          "execution_count": 131
        },
        {
          "output_type": "display_data",
          "data": {
            "image/png": "[encoded data removed]",
            "text/plain": [
              "<Figure size 432x288 with 1 Axes>"
            ]
          },
          "metadata": {
            "needs_background": "light"
          }
        }
      ]
    }
  ]
}